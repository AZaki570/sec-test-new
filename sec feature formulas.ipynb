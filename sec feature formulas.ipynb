{
 "cells": [
  {
   "cell_type": "code",
   "execution_count": null,
   "metadata": {},
   "outputs": [],
   "source": []
  },
  {
   "cell_type": "code",
   "execution_count": null,
   "metadata": {},
   "outputs": [],
   "source": [
    "firm_ciks = [\"#feed in full list of CIKS from SEC CIK file on SEC site\"]"
   ]
  },
  {
   "cell_type": "code",
   "execution_count": null,
   "metadata": {},
   "outputs": [],
   "source": [
    "report_type = ['10-Q'] "
   ]
  },
  {
   "cell_type": "code",
   "execution_count": null,
   "metadata": {},
   "outputs": [],
   "source": [
    "xbrl_elements = [\n",
    "    'NetCashProvidedByUsedInOperatingActivities',\n",
    "    'NetCashProvidedByUsedInInvestingActivities',\n",
    "    'ComprehensiveIncomeNetOfTax',\n",
    "    'Revenues',\n",
    "    'NetIncomeLossFromContinuingOperationsAvailableToCommonShareholdersDiluted',\n",
    "    'PropertyPlantAndEquipmentGrossPeriodIncreaseDecrease',\n",
    "    'DepreciationAndAmortization'\n",
    "                ]"
   ]
  },
  {
   "cell_type": "code",
   "execution_count": null,
   "metadata": {},
   "outputs": [],
   "source": [
    "quarters = ['2021Q2', '2021Q1', '2020Q4', '2020Q3', '2020Q2', '2020Q1', '2019Q4', '2019Q3', '2019Q2', '2019Q1', '2018Q4', '2018Q3', '2018Q2']"
   ]
  },
  {
   "cell_type": "markdown",
   "metadata": {},
   "source": [
    "Feature #1 Cash flow statement Same time period (not different time periods) Contrast % positive change in Operating Cash Inflow with large % decrease in Investing Cash Flow. Add % increase in operating cash plus % decrease in investing cash and flags any differences higher than +10%."
   ]
  },
  {
   "cell_type": "code",
   "execution_count": null,
   "metadata": {},
   "outputs": [],
   "source": [
    "# Creating the time-series index\n",
    "ind = pd.date_range('MM/DD/YYYY', periods = 13 (2021 Q2 - 2018 Q2), since we are using quarters, freq ='Q')\n",
    "  \n",
    "# Creating the dataframe \n",
    "\n",
    "CFFO = NetCashProvidedByUsedInOperatingActivities\n",
    "#Line 6394\n",
    "\n",
    "\n",
    "CFFI = NetCashProvidedByUsedInInvestingActivities\n",
    "#Line 6395\n",
    "\n",
    "#Use the dataframe.pct_change() function to find the percent change in the data.\n",
    "# find the percentage change with the previous row\n",
    "\n",
    "df.pct_change()\n",
    "\n",
    "\n",
    "# Get sum of all rows as a new row in Dataframe\n",
    "total = df.sum()\n",
    "total.name = 'Total'\n",
    "\n",
    "\n",
    "groups = df.groupby(['','',''])\n",
    "df[groups[\"% Amount Change\"].apply(lambda x: x < -0.1)]\n"
   ]
  },
  {
   "cell_type": "markdown",
   "metadata": {},
   "source": [
    "\"Feature #2 Income statement and cash flow statement Same time period first. Then different time periods. Compare YoY % change in net income to YoY% change in CFFO. Generally expect net income and CFFO to move in the same direction. Both increasing, both positive. Or both decreasing, both negative. If not moving in same direction, flag.\"                                "
   ]
  },
  {
   "cell_type": "code",
   "execution_count": null,
   "metadata": {},
   "outputs": [],
   "source": [
    "NI = ComprehensiveIncomeNetOfTax\n",
    "#Line 2180\n",
    "\n",
    "CFFO = NetCashProvidedByUsedInOperatingActivities\n",
    "#Line 6394\n",
    "\n",
    "# Creating the time-series index\n",
    "ind = pd.date_range('MM/DD/YYYY', periods = 13 (2021 Q2 - 2018 Q2), since we are using quarters, freq ='Q')\n",
    "  \n",
    "# Creating the dataframe \n",
    "\n",
    "\n",
    "#Use the dataframe.pct_change() function to find the percent change in the data.\n",
    "# find the percentage change with the previous row\n",
    "\n",
    "df.pct_change()\n",
    "#for both NI and CFFO\n"
   ]
  },
  {
   "cell_type": "markdown",
   "metadata": {},
   "source": [
    "Feature #3\n",
    "Income statement and cash flow statement\n",
    "Cash flow from operations – net income.  Subtract net income from cash flow from operations.\n",
    "THEN compare cash flow from operations – net income to same calculation for prior time period and flag any differences higher than +10%\n"
   ]
  },
  {
   "cell_type": "code",
   "execution_count": null,
   "metadata": {},
   "outputs": [],
   "source": [
    "NI = ComprehensiveIncomeNetOfTax\n",
    "#Line 2180\n",
    "\n",
    "CFFO = NetCashProvidedByUsedInOperatingActivities\n",
    "#Line 6394\n",
    "\n",
    "PERIOD 1 = CFFO1 - NI1\n",
    "\n",
    "PERIOD 2 = CFFO2 - NI2\n",
    "\n",
    "groups = df.groupby(['','',''])\n",
    "df[groups[\"% Amount Change\"].apply(lambda x: x < -0.1)]"
   ]
  },
  {
   "cell_type": "markdown",
   "metadata": {},
   "source": [
    "Feature #4\n",
    "•\tRecording bogus revenue\n",
    "Income statement\n",
    "Look for dramatic Year to Year percentage improvements in sales or operating profit.  Revenue (sales)  and operating profit (income) moving from sharply negative growth to positive from one year to the next or +/- 10%. Compare YoY sales % change and operating profit % change for each time period we are analyzing.\n",
    "\n",
    "Once firms identified, will look at 10K for firms using “percentage of completion”(POC) to book sales earlier\n"
   ]
  },
  {
   "cell_type": "code",
   "execution_count": null,
   "metadata": {},
   "outputs": [],
   "source": [
    "#Use Q2 2021 and compare to Q2 2020 and so on\n",
    "\n",
    "Rev = Revenues\n",
    "\n",
    "OP = NetIncomeLossFromContinuingOperationsAvailableToCommonShareholdersDiluted\n",
    "\n",
    "#Use the dataframe.pct_change() function to find the percent change in the data.\n",
    "# find the percentage change with the previous row\n",
    "\n",
    "df.pct_change()\n"
   ]
  },
  {
   "cell_type": "markdown",
   "metadata": {},
   "source": [
    "Feature #5\n",
    "•\tBoosting income on the Income Statement using one-time or unsustainable activities\n",
    "Barter or nonmonetary sales, especially when the buyer is a related party\n",
    "Operating profits/pre-tax profits up much higher than revenue.  Bogus revenue goes with bogus cash flow.\n",
    "\n",
    "Income Statement: Calculate and contrast period to period growth % in operating profits/pre-tax profits to period growth % in gross revenue.  \n",
    "Subtract %increase in gross revenue from % increase in operating profits and flag any differences higher than 10%.\n"
   ]
  },
  {
   "cell_type": "code",
   "execution_count": null,
   "metadata": {},
   "outputs": [],
   "source": [
    "Rev = Revenues\n",
    "#Line 238\n",
    "\n",
    "\n",
    "OP = NetIncomeLossFromContinuingOperationsAvailableToCommonShareholdersDiluted\n",
    "#Line 229\n"
   ]
  },
  {
   "cell_type": "markdown",
   "metadata": {},
   "source": [
    "Feature #6\n",
    "Large Percentage increases in Cash Flow from Operations in the Cash Flow Statement. (More than 10%)\n",
    "\n",
    "Did the company sell inventory or receivables to a related party, like a bank?\n",
    "(“Decrease/Increase in “Receivables” or “Trade Receivables”)\n",
    "Focus not only on how much CFFO grew, but also on how it grew—a very big difference.\n",
    "\n",
    "Watch for companies that constantly record restructuring charges\n",
    "Shift losses to discontinued operations\n"
   ]
  },
  {
   "cell_type": "code",
   "execution_count": null,
   "metadata": {},
   "outputs": [],
   "source": [
    "#Compare current quarter to previous quarter and quarter of current year to same quarter of previous year\n",
    "\n",
    "CFFO = NetCashProvidedByUsedInOperatingActivities\n"
   ]
  },
  {
   "cell_type": "markdown",
   "metadata": {},
   "source": [
    "Feature #7\n",
    "Capitalize expenses and boost CFFO\n",
    "Balance sheet (consolidated statement of financial position) and cash flow statement\n",
    "Same time period.  \n",
    "\n",
    "Step 1: Calculate capital expenditure (ΔPP&E + Current Depreciation)\n",
    "\n",
    "Calculate change in property, plant, and equipment (PP&E) from current year to prior year and add current year depreciation and amortization from cash flow statement\n",
    "\n",
    "Step 2: Subtract capital expenditures from cash flow from operations (from cash flow statement) to calculate Free cash flow\n",
    "\n",
    "Step 3: Compare free cash flow to cash flow from operations for same  time period and flag any differences higher than +10% (Subtract free cash flow from CFFO.  Take net difference and divide by current year CFFO to out percentage)\n",
    "\n",
    " \n",
    "Dishonest company executives may find ways to improperly capitalize any normal operating cost; however, the most common ones are generally those related to long-term arrangements, such as research and development, labour and overhead related to a long-term project, software development, and costs to win contracts or customers. Monitor these accounts for the best chance of spotting aggressive capitalization. Also, when a company improperly records costs as an asset instead of an expense, CFFO will be overstated. Calculating free cash flow reveals the extent of the company’s problems.\n"
   ]
  },
  {
   "cell_type": "code",
   "execution_count": null,
   "metadata": {},
   "outputs": [],
   "source": [
    "Step 1\n",
    "\n",
    "PPE = PropertyPlantAndEquipmentGrossPeriodIncreaseDecrease\n",
    "#Line 3285\n",
    "\n",
    "DEPA = DepreciationAndAmortization\n",
    "#Line 481\n",
    "\n",
    "CAPEX = PPE + DEPA\n",
    "\n",
    "Step 2\n",
    "\n",
    "CFFO = NetCashProvidedByUsedInOperatingActivities\n",
    "#Line 6394\n",
    "\n",
    "CFFO - CAPEX\n",
    "\n"
   ]
  }
 ],
 "metadata": {
  "kernelspec": {
   "display_name": "Python 3",
   "language": "python",
   "name": "python3"
  },
  "language_info": {
   "codemirror_mode": {
    "name": "ipython",
    "version": 3
   },
   "file_extension": ".py",
   "mimetype": "text/x-python",
   "name": "python",
   "nbconvert_exporter": "python",
   "pygments_lexer": "ipython3",
   "version": "3.8.5"
  }
 },
 "nbformat": 4,
 "nbformat_minor": 4
}
